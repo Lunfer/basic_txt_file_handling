{
 "cells": [
  {
   "cell_type": "code",
   "execution_count": 34,
   "id": "6d8f404c",
   "metadata": {},
   "outputs": [],
   "source": [
    "import re\n",
    "txt = './beeline_consent_query_stderr.txt'\n",
    "QES = {}\n",
    "TES = {}\n",
    "DM = {}"
   ]
  },
  {
   "cell_type": "code",
   "execution_count": 35,
   "id": "8cf5aa49",
   "metadata": {},
   "outputs": [],
   "source": [
    "lines = []\n",
    "with open(txt,'r') as txt:\n",
    "    for line in txt:\n",
    "        lines.append(line)"
   ]
  },
  {
   "cell_type": "markdown",
   "id": "32cd3c71",
   "metadata": {},
   "source": [
    "##### First part of the task: Query Execution Summary ( QES ) dictionary: "
   ]
  },
  {
   "cell_type": "code",
   "execution_count": 29,
   "id": "5cd7f988",
   "metadata": {},
   "outputs": [],
   "source": [
    "QES_Keys = ['Compile Query','Prepare Plan','Get Query Coordinator (AM)','Submit Plan','Start DAG','Run DAG']\n",
    "for line in lines:\n",
    "    for qes_key in QES_Keys:\n",
    "        if qes_key in line:\n",
    "            QES[qes_key] = line.strip().split()[-1]\n",
    "#searching for the key-values pairs from the beginning "
   ]
  },
  {
   "cell_type": "markdown",
   "id": "da3ea3f1",
   "metadata": {},
   "source": [
    "##### Second part of the task: Task Execution Summary ( TES ) complex dictionary:"
   ]
  },
  {
   "cell_type": "code",
   "execution_count": 36,
   "id": "7a9cc9ce",
   "metadata": {},
   "outputs": [],
   "source": [
    "i = 0\n",
    "seps = []\n",
    "for (num , line) in enumerate(lines):\n",
    "    if 'Task Execution Summary' in line:\n",
    "        TES_line_number = num #getting TES header location\n",
    "    if 'Completed executing command' in line:\n",
    "        com_line_number = num #this is for the 3rd part of the description, figures out the last line of the DMs\n",
    "for line in lines[TES_line_number:]:\n",
    "    if '---------' in line:\n",
    "        seps.append(i) #getting the location of the lines/separators after TES' line location\n",
    "    i+=1\n",
    "for line in lines[(TES_line_number+1+seps[-2]):(TES_line_number+seps[-1])]:\n",
    "    line_array = line.strip().split()\n",
    "    TES[line_array[2]+\" \"+line_array[3]]={\"DURATION(ms)\":line_array[4],\"CPU_TIME(ms)\":line_array[5],\n",
    "                                          \"GC_TIME(ms)\":line_array[6],\"INPUT_RECORDS\":line_array[7],\n",
    "                                          \"OUTPUT_RECORDS\":line_array[8]}"
   ]
  },
  {
   "cell_type": "markdown",
   "id": "b08f6bac",
   "metadata": {},
   "source": [
    "##### Third part of the task: Detailed Metrics per task ( DM ) complex dictionary:"
   ]
  },
  {
   "cell_type": "code",
   "execution_count": 38,
   "id": "9b964879",
   "metadata": {},
   "outputs": [],
   "source": [
    "last_sep_line_num = TES_line_number+2+seps[-1] #getting the starting position of our data which is located 2 rows after the last separator/line.\n",
    "#used that as a starting point because I'm confident that that's what a normal layout of this file looks like and I wasn't sure that the Detailed Metrics are all present all the time.\n",
    "for line in lines[last_sep_line_num:(com_line_number)]:\n",
    "    if re.search(r\"^INFO\\s+:\\s\\w\",line):\n",
    "        key = line.split(':')[1].strip()\n",
    "        DM[key] = {}\n",
    "    elif re.search(r\"INFO\\s+:\\s{3,5}\\w\", line): #it would accept 3 to 5 spaces here \n",
    "        k, v = line.split(':')[1:]\n",
    "        DM[key][k.strip()] = int(v)\n",
    "    else:\n",
    "        print('different format')"
   ]
  }
 ],
 "metadata": {
  "kernelspec": {
   "display_name": "Python 3 (ipykernel)",
   "language": "python",
   "name": "python3"
  },
  "language_info": {
   "codemirror_mode": {
    "name": "ipython",
    "version": 3
   },
   "file_extension": ".py",
   "mimetype": "text/x-python",
   "name": "python",
   "nbconvert_exporter": "python",
   "pygments_lexer": "ipython3",
   "version": "3.9.7"
  }
 },
 "nbformat": 4,
 "nbformat_minor": 5
}
